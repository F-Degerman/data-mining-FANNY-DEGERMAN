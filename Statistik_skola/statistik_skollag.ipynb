{
 "cells": [
  {
   "cell_type": "code",
   "execution_count": null,
   "id": "5b110373",
   "metadata": {},
   "outputs": [],
   "source": [
    "Statistik utifrån ord som nämns i skollagen. kap 1-10, 21-29.  \n",
    "kapitel 11-20, samt övergångsbestämmelser har inte tagits med i statistisken  \n",
    "då endast det som är relevant för den ordinarie grunskolan ska tas med. "
   ]
  },
  {
   "cell_type": "markdown",
   "id": "4bac31f8",
   "metadata": {},
   "source": [
    "Ordräknare (textdokument)"
   ]
  },
  {
   "cell_type": "code",
   "execution_count": 21,
   "id": "ec35d8f7",
   "metadata": {},
   "outputs": [
    {
     "name": "stdout",
     "output_type": "stream",
     "text": [
      "Förekomster av 'studiero': 14\n"
     ]
    }
   ],
   "source": [
    "\n",
    "import re\n",
    "\n",
    "fil = \"skollag.txt\"\n",
    "sokord = \"studiero\"       # byt till ordet du vill räkna\n",
    "\n",
    "text = open(fil, encoding=\"utf-8\", errors=\"ignore\").read()\n",
    "# slå ihop radbrytningar/mellanslag så fraser inte bryts över rader\n",
    "text = re.sub(r\"\\s+\", \" \", text)\n",
    "\n",
    "pattern = re.compile(rf\"\\b{re.escape(sokord)}\\b\", flags=re.IGNORECASE)\n",
    "antal = len(pattern.findall(text))\n",
    "print(f\"Förekomster av '{sokord}':\", antal)\n",
    "\n",
    "   "
   ]
  },
  {
   "cell_type": "code",
   "execution_count": 24,
   "id": "1cfea0c8",
   "metadata": {},
   "outputs": [
    {
     "name": "stdout",
     "output_type": "stream",
     "text": [
      "74\n"
     ]
    }
   ],
   "source": [
    "import re\n",
    "from pathlib import Path\n",
    "input_path = \"skollag.txt\"\n",
    "\n",
    "input_path = Path(input_path)\n",
    "sokord = \"betyg\".lower()\n",
    "\n",
    "text = input_path.read_text(encoding=\"utf-8\", errors=\"ignore\").lower()\n",
    "tokens = re.findall(r\"[A-Za-zÅÄÖåäö]+\", text)  # plocka ut ord\n",
    "count = sum(1 for t in tokens if t == sokord)\n",
    "print(count)\n"
   ]
  },
  {
   "cell_type": "markdown",
   "id": "b1d4d391",
   "metadata": {},
   "source": [
    "Topplista över vanligaste orden (enkel tokenisering)"
   ]
  },
  {
   "cell_type": "code",
   "execution_count": 23,
   "id": "72ec6b25",
   "metadata": {},
   "outputs": [
    {
     "ename": "NameError",
     "evalue": "name 'text_col' is not defined",
     "output_type": "error",
     "traceback": [
      "\u001b[31m---------------------------------------------------------------------------\u001b[39m",
      "\u001b[31mNameError\u001b[39m                                 Traceback (most recent call last)",
      "\u001b[36mCell\u001b[39m\u001b[36m \u001b[39m\u001b[32mIn[23]\u001b[39m\u001b[32m, line 9\u001b[39m\n\u001b[32m      4\u001b[39m stop = \u001b[38;5;28mset\u001b[39m(\u001b[33m\"\"\"\u001b[39m\u001b[33moch att som i på av för med till en ett det den de är var\u001b[39m\n\u001b[32m      5\u001b[39m \u001b[33msom är att det den de vi ni och eller men också även inom mellan under\u001b[39m\n\u001b[32m      6\u001b[39m \u001b[33m\"\"\"\u001b[39m.split())\n\u001b[32m      8\u001b[39m \u001b[38;5;66;03m# Om du har en DataFrame med kolumnen 'text_col'\u001b[39;00m\n\u001b[32m----> \u001b[39m\u001b[32m9\u001b[39m all_text = \u001b[33m\"\u001b[39m\u001b[33m \u001b[39m\u001b[33m\"\u001b[39m.join(input_path[\u001b[43mtext_col\u001b[49m].dropna().astype(\u001b[38;5;28mstr\u001b[39m).tolist()).lower()\n\u001b[32m     10\u001b[39m tokens = re.findall(\u001b[33mr\u001b[39m\u001b[33m\"\u001b[39m\u001b[33m[a-zåäö]+\u001b[39m\u001b[33m\"\u001b[39m, all_text)\n\u001b[32m     11\u001b[39m tokens = [t \u001b[38;5;28;01mfor\u001b[39;00m t \u001b[38;5;129;01min\u001b[39;00m tokens \u001b[38;5;28;01mif\u001b[39;00m t \u001b[38;5;129;01mnot\u001b[39;00m \u001b[38;5;129;01min\u001b[39;00m stop \u001b[38;5;129;01mand\u001b[39;00m \u001b[38;5;28mlen\u001b[39m(t) > \u001b[32m2\u001b[39m]\n",
      "\u001b[31mNameError\u001b[39m: name 'text_col' is not defined"
     ]
    }
   ],
   "source": [
    "import re, collections, pandas as pd\n",
    "\n",
    "# En liten svensk stopwords-lista (lägg gärna till fler ord som inte är intressanta)\n",
    "stop = set(\"\"\"och att som i på av för med till en ett det den de är var\n",
    "som är att det den de vi ni och eller men också även inom mellan under\n",
    "\"\"\".split())\n",
    "\n",
    "# Om du har en DataFrame med kolumnen 'text_col'\n",
    "all_text = \" \".join(input_path[text_col].dropna().astype(str).tolist()).lower()\n",
    "tokens = re.findall(r\"[a-zåäö]+\", all_text)\n",
    "tokens = [t for t in tokens if t not in stop and len(t) > 2]\n",
    "\n",
    "freq = collections.Counter(tokens).most_common(20)\n",
    "top_df = pd.DataFrame(freq, columns=[\"ord\", \"frekvens\"])\n",
    "top_df\n"
   ]
  },
  {
   "cell_type": "markdown",
   "id": "516d7465",
   "metadata": {},
   "source": [
    "Plot med Matplotlib/Seaborn:"
   ]
  },
  {
   "cell_type": "code",
   "execution_count": null,
   "id": "09bff04c",
   "metadata": {},
   "outputs": [],
   "source": [
    "import matplotlib.pyplot as plt\n",
    "import seaborn as sns\n",
    "\n",
    "sns.barplot(data=top_df, x=\"frekvens\", y=\"ord\")\n",
    "plt.title(\"Topp 20 ord\")\n",
    "plt.xlabel(\"Frekvens\"); plt.ylabel(\"Ord\")\n",
    "plt.show()\n"
   ]
  }
 ],
 "metadata": {
  "kernelspec": {
   "display_name": ".venv",
   "language": "python",
   "name": "python3"
  },
  "language_info": {
   "codemirror_mode": {
    "name": "ipython",
    "version": 3
   },
   "file_extension": ".py",
   "mimetype": "text/x-python",
   "name": "python",
   "nbconvert_exporter": "python",
   "pygments_lexer": "ipython3",
   "version": "3.13.7"
  }
 },
 "nbformat": 4,
 "nbformat_minor": 5
}
