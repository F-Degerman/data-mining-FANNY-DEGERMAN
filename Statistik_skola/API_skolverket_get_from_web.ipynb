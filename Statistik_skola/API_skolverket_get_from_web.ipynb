{
 "cells": [
  {
   "cell_type": "code",
   "execution_count": 20,
   "id": "cca2214b",
   "metadata": {},
   "outputs": [
    {
     "name": "stdout",
     "output_type": "stream",
     "text": [
      "Top keys in subject: ['code', 'name', 'typeOfSyllabus', 'startDate', 'modifiedDate', 'version', 'versionInfo', 'skolfsGrund', 'skolfsAndring', 'gradeScale', 'nameHeading', 'description', 'designation', 'purposeHeading', 'purpose', 'schoolTypes', 'centralCntHeading', 'centralContents', 'knowledgeReqsHeading', 'knowledgeRequirements']\n",
      "\n",
      "versionInfo = Redigering av rubrik för betygskriterier\n",
      "\n",
      "== skolfsGrund ==\n",
      "'2010:37'\n",
      "\n",
      "== skolfsAndring ==\n",
      "'2022:8'\n",
      "\n",
      "== gradeScale ==\n",
      "'A-F'\n"
     ]
    }
   ],
   "source": [
    "import json, urllib.request, pprint\n",
    "\n",
    "url = \"https://api.skolverket.se/syllabus/v1/subjects/GRGRMAT01\"\n",
    "\n",
    "with urllib.request.urlopen(url) as r:\n",
    "    payload = json.load(r)\n",
    "\n",
    "subject = payload[\"subject\"]\n",
    "\n",
    "print(\"Top keys in subject:\", list(subject.keys()))\n",
    "print(\"\\nversionInfo =\", subject.get(\"versionInfo\"))\n",
    "\n",
    "# Titta särskilt på dessa – kan peka vidare till text/metadata:\n",
    "for k in [\"skolfsGrund\", \"skolfsAndring\", \"gradeScale\"]:\n",
    "    print(f\"\\n== {k} ==\")\n",
    "    pprint.pprint(subject.get(k))\n"
   ]
  },
  {
   "cell_type": "code",
   "execution_count": 25,
   "id": "33dbb5f3",
   "metadata": {},
   "outputs": [
    {
     "name": "stdout",
     "output_type": "stream",
     "text": [
      "Hittade 12 längre textfält.\n",
      "\n",
      "--- description ---\n",
      "\n",
      "<p>Matematiken har en flertusenårig historia med bidrag från många kulturer. Den utvecklas såväl ur praktiska behov som ur människans nyfikenhet och lust att utforska matematiken som sådan. Matematisk verksamhet är till sin art en kreativ, reflekterande och problemlösande aktivitet som är nära kopplad till den samhälleliga, sociala, naturvetenskapliga, tekniska och digitala ut­veck­lingen. Kunskaper i matematik ger människor förutsättningar att fatta väl­grun­dade beslut i vardagslivets många valsituationer och ökar möjligheterna att del­ta i samhällets beslutsprocesser.</p> ...\n",
      "\n",
      "--- purpose ---\n",
      "\n",
      "<p>Undervisningen i ämnet matematik ska syfta till att eleverna utvecklar kun­ska­per om matematik och matematikens användning i vardagen och inom oli­ka ämnesområden. Undervisningen ska bidra till att eleverna utvecklar in­tresse för matematik och tilltro till sin förmåga att använda matematik i olika sam­manhang. Den ska också ge eleverna möjlighet att uppleva estetiska vär­den i möten med matematiska mönster, former och samband.</p> <p>Genom undervisningen ska eleverna ges förutsättningar att utveckla för­tro­gen­het med grundläggande matematiska begrepp och metoder och deras an­vänd­barhet. Vidare ska eleverna genom undervisningen ges möjligheter att ut­veckla kunskaper i att använda digitala verktyg och programmering för att kunna undersöka problemställningar och matematiska begrepp, göra beräk­ningar samt för att presentera och tolka data.</p> <p>Undervisningen ska bidra till att eleverna utvecklar kunskaper för att kunna for­mu­lera och lösa problem samt reflektera över och värd ...\n",
      "\n",
      "--- centralContents[0].text ---\n",
      "\n",
      "<h3>I årskurs 1–3</h3><h4>Taluppfattning och tals användning</h4> <ul> <li>Naturliga tal och deras egenskaper samt hur talen delas upp och an­vän­ds för att ange antal och ordning.</li> <li>Positionssystemet och hur det används för att beskriva naturliga tal.</li> <li>Symboler för tal och symbolernas utveckling i några olika kulturer genom historien.</li> <li>Tal i bråkform som del av helhet och del av antal samt hur delarna benämns och uttrycks som enkla bråk. Hur enkla bråk förhåller sig till naturliga tal.</li> <li>Hur naturliga tal och enkla tal i bråkform används i elevnära situa­tio­ner.</li> <li>De fyra räknesättens egenskaper och samband samt användning i olika situationer.</li> <li>Metoder för beräkningar med naturliga tal, vid huvudräkning, över­slags­räkning och skriftlig beräkning. Användning av digitala verktyg vid be­räk­ningar.</li> <li>Rimlighetsbedömning vid uppskattningar och beräkningar.</li> </ul> <h4>Algebra</h4> <ul> <li>Matematiska likheter och likhetstecknets be ...\n",
      "\n",
      "--- centralContents[1].text ---\n",
      "\n",
      "<h3>I årskurs 4–6</h3><h4>Taluppfattning och tals användning</h4> <ul> <li>Rationella tal, däribland negativa tal, och deras egenskaper samt hur talen kan delas upp och användas.</li> <li>Positionssystemet och hur det används för att beskriva hela tal och tal i decimalform.</li> <li>Olika talsystem och några talsystem som använts i olika kulturer genom hi­storien.</li> <li>Tal i procentform och deras samband med tal i bråk- och decimalform.</li> <li>Hur tal i bråk- och decimalform kan användas i vardagliga situationer.</li> <li>De fyra räknesätten och regler för deras användning vid beräkningar med naturliga tal.</li> <li>Metoder för beräkningar med naturliga tal och enkla tal i bråk- och deci­malform vid överslagsräkning, huvudräkning och skriftlig beräkning. An­vändning av digitala verktyg vid beräkningar.</li> <li>Rimlighetsbedömning vid uppskattningar och beräkningar.</li> </ul> <h4>Algebra</h4> <ul> <li>Matematiska likheter och hur likhetstecknet används för att teckna enk­la ekva ...\n",
      "\n",
      "--- centralContents[2].text ---\n",
      "\n",
      "<h3>I årskurs 7–9</h3><h4>Taluppfattning och tals användning</h4> <ul> <li>Reella tal och deras egenskaper samt talens användning i matematiska situa­tio­ner.</li> <li>Talsystemets utveckling från naturliga tal till reella tal.</li> <li>Tal i potensform. Grundpotensform för att uttrycka små och stora tal samt an­vändning av prefix.</li> <li>Matematiska lagar och regler samt deras användning vid beräkningar med tal i bråk-, decimal- och potensform.</li> <li>Metoder för beräkningar med tal i bråk- och decimalform vid över­slags­räkning, huvudräkning och skriftlig beräkning. Användning av di­gitala verk­tyg vid beräkningar.</li> <li>Rimlighetsbedömning vid uppskattningar och beräkningar.</li> </ul> <h4>Algebra</h4> <ul> <li>Matematiska likheter samt hur likhetstecknet används för att teckna ekvationer och funktioner.</li> <li>Variablers användning i algebraiska uttryck, formler, ekvationer och funk­tioner.</li> <li>Metoder för att lösa linjära ekvationer och enkla andragradsekvationer.</l ...\n",
      "\n",
      "--- knowledgeRequirements[0].text ---\n",
      "\n",
      "<h3>Kriterier för bedömning av godtagbara kunskaper i slutet av årskurs 3</h3><p>Eleven visar grundläggande kunskaper om matematiska begrepp och använder dem med tillfredsställande säkerhet. Eleven ger även exempel på hur några begrepp relaterar till varandra. Eleven visar grundläggande kunskaper om naturliga tal och beskriver tals inbördes relation samt delar upp tal. Eleven visar grundläggande kunskaper om tal i bråkform och delar upp helheter i delar samt jämför och namnger delarna som enkla bråk. Eleven använder och beskriver geometriska mönster och mönster i talföljder. Dessutom använder eleven grundläggande geometriska begrepp och vanliga lägesord för att beskriva geometriska objekts egenskaper, läge och inbördes relationer. Eleven använder och ger exempel på enkla proportionella samband.</p> <p>Eleven väljer och använder i huvudsak fungerande matematiska metoder för att göra enkla beräkningar med naturliga tal och lösa enkla rutinuppgifter med tillfredsställande säkerhet. Eleven ...\n",
      "\n",
      "--- knowledgeRequirements[1].text ---\n",
      "\n",
      "<h3>Betygskriterier för betyget E i slutet av årskurs 6</h3><p>Eleven visar <strong>grundläggande</strong> kunskaper om matematiska begrepp samt använder och beskriver begrepp och samband mellan begrepp inom områdena taluppfattning och tals användning, algebra, geometri, sannolikhet och statistik samt samband och förändring med <strong>tillfredsställande</strong> säkerhet.</p> <p>Eleven väljer och använder <strong>i huvudsak</strong> <strong>fungerande</strong> matematiska metoder för att göra beräkningar och lösa rutinuppgifter inom områdena taluppfattning och tals användning, algebra, geometri, sannolikhet och statistik samt samband och förändring med <strong>tillfredsställande</strong> säkerhet.</p> <p>Eleven löser <strong>enkla </strong>problem. Eleven <strong>bidrar till något</strong> förslag på alternativt tillvägagångssätt och värderar resultatens rimlighet.</p> <p>Eleven för och följer matematiska resonemang genom att framföra och bemöta påståenden med <strong>enkla </strong>m ...\n",
      "\n",
      "--- knowledgeRequirements[3].text ---\n",
      "\n",
      "<h3>Betygskriterier för betyget C i slutet av årskurs 6</h3><p>Eleven visar<strong> goda</strong> kunskaper om matematiska begrepp samt använder och beskriver begrepp och samband mellan begrepp inom områdena taluppfattning och tals användning, algebra, geometri, sannolikhet och statistik samt samband och förändring med <strong>god </strong>säkerhet.</p> <p>Eleven väljer och använder <strong>ändamålsenliga</strong> matematiska metoder för att göra beräkningar och lösa rutinuppgifter inom områdena taluppfattning och tals användning, algebra, geometri, sannolikhet och statistik samt samband och förändring med <strong>god</strong> säkerhet.</p> <p>Eleven löser <strong>relativt komplexa</strong> problem. Eleven <strong>ger något </strong>förslag på alternativt tillvägagångssätt och värderar resultatens rimlighet.</p> <p>Eleven för och följer matematiska resonemang genom att framföra och bemöta påståenden med <strong>relativt väl</strong> <strong>underbyggda</strong> matematiska argument.</p ...\n",
      "\n",
      "--- knowledgeRequirements[5].text ---\n",
      "\n",
      "<h3>Betygskriterier för betyget A i slutet av årskurs 6</h3><p>Eleven visar <strong>mycket goda</strong> kunskaper om matematiska begrepp samt använder och beskriver begrepp och samband mellan begrepp inom områdena taluppfattning och tals användning, algebra, geometri, sannolikhet och statistik samt samband och förändring med <strong>mycket god </strong>säkerhet.</p> <p>Eleven väljer och använder <strong>ändamålsenliga</strong> <strong>och effektiva</strong> matematiska metoder för att göra beräkningar och lösa rutinuppgifter inom områdena taluppfattning och tals användning, algebra, geometri, sannolikhet och statistik samt samband och förändring med<strong> mycket god</strong> säkerhet.</p> <p>Eleven löser <strong>komplexa </strong>problem. Eleven <strong>ger </strong>förslag på alternativa tillvägagångssätt och värderar resultatens rimlighet.</p> <p>Eleven för och följer matematiska resonemang genom att framföra och bemöta påståenden med <strong>väl underbyggda</strong> matematiska a ...\n",
      "\n",
      "--- knowledgeRequirements[6].text ---\n",
      "\n",
      "<h3>Betygskriterier för betyget E i slutet av årskurs 9</h3><p>Eleven visar <strong>grundläggande</strong> kunskaper om matematiska begrepp samt använder och beskriver begrepp och samband mellan begrepp inom områdena taluppfattning och tals användning, algebra, geometri, sannolikhet och statistik samt samband och förändring med <strong>tillfredsställande</strong> säkerhet.</p> <p>Eleven väljer och använder <strong>i huvudsak</strong> <strong>fungerande</strong> matematiska metoder för att göra beräkningar och lösa rutinuppgifter inom områdena taluppfattning och tals användning, algebra, geometri, sannolikhet och statistik samt samband och förändring med <strong>tillfredsställande</strong> säkerhet.</p> <p>Eleven löser<strong> enkla</strong> problem. Eleven <strong>bidrar till</strong> <strong>något</strong> förslag på alternativt tillvägagångssätt. I samband med problemlösning <strong>bidrar</strong> eleven <strong>till att formulera</strong> enkla matematiska modeller som kan tillämpa ...\n",
      "\n",
      "--- knowledgeRequirements[8].text ---\n",
      "\n",
      "<h3>Betygskriterier för betyget C i slutet av årskurs 9</h3><p>Eleven visar <strong>goda</strong> kunskaper om matematiska begrepp samt använder och beskriver begrepp och samband mellan begrepp inom områdena taluppfattning och tals användning, algebra, geometri, sannolikhet och statistik samt samband och förändring med <strong>god </strong>säkerhet.</p> <p>Eleven väljer och använder <strong>ändamålsenliga</strong> matematiska metoder för att göra beräkningar och lösa rutinuppgifter inom områdena taluppfattning och tals användning, algebra, geometri, sannolikhet och statistik samt samband och förändring med <strong>god</strong> säkerhet.</p> <p>Eleven löser <strong>relativt komplexa</strong> problem. Eleven <strong>ger</strong> <strong>något</strong> förslag på alternativt tillvägagångssätt. I samband med problemlösning <strong>formulerar</strong> eleven enkla matematiska modeller som <strong>efter någon bearbetning</strong> kan tillämpas i sammanhanget. Eleven värderar strategier och r ...\n",
      "\n",
      "--- knowledgeRequirements[10].text ---\n",
      "\n",
      "<h3>Betygskriterier för betyget A i slutet av årskurs 9</h3><p>Eleven visar <strong>mycket goda</strong> kunskaper om matematiska begrepp samt använder och beskriver begrepp och samband mellan begrepp inom områdena taluppfattning och tals användning, algebra, geometri, sannolikhet och statistik samt samband och förändring med <strong>mycket god</strong> säkerhet.</p> <p>Eleven väljer och använder <strong>ändamålsenliga</strong> <strong>och effektiva</strong> matematiska metoder för att göra beräkningar och lösa rutinuppgifter inom områdena taluppfattning och tals användning, algebra, geometri, sannolikhet och statistik samt samband och förändring med <strong>mycket</strong> <strong>god</strong> säkerhet.</p> <p>Eleven löser <strong>komplexa</strong> problem. Eleven <strong>ger</strong> förslag på alternativa tillvägagångssätt. I samband med problemlösning <strong>formulerar</strong> eleven enkla matematiska modeller som kan tillämpas i sammanhanget. Eleven värderar strategier och resul ...\n"
     ]
    }
   ],
   "source": [
    "from collections import deque\n",
    "\n",
    "def walk_strings(obj, min_len=200, path=\"\"):\n",
    "    \"\"\"Hitta alla strängfält längre än min_len; returnera (path, value).\"\"\"\n",
    "    found = []\n",
    "    q = deque([(obj, path)])\n",
    "    while q:\n",
    "        cur, p = q.popleft()\n",
    "        if isinstance(cur, dict):\n",
    "            for k, v in cur.items():\n",
    "                q.append((v, f\"{p}.{k}\" if p else k))\n",
    "        elif isinstance(cur, list):\n",
    "            for i, v in enumerate(cur):\n",
    "                q.append((v, f\"{p}[{i}]\"))\n",
    "        elif isinstance(cur, str):\n",
    "            if len(cur.strip()) >= min_len:\n",
    "                found.append((p, cur))\n",
    "    return found\n",
    "\n",
    "long_texts = walk_strings(subject, min_len=200)\n",
    "print(f\"Hittade {len(long_texts)} längre textfält.\")\n",
    "for path, val in long_texts[:12]:\n",
    "    print(\"\\n---\", path, \"---\\n\")\n",
    "    print(val[:1000], \"...\")  # förhandsvisning\n"
   ]
  },
  {
   "cell_type": "code",
   "execution_count": 22,
   "id": "384ef864",
   "metadata": {},
   "outputs": [
    {
     "name": "stdout",
     "output_type": "stream",
     "text": [
      "Fält: description\n",
      "\n",
      "Matematiken har en flertusenårig historia med bidrag från många kulturer. Den utvecklas såväl ur\n",
      "praktiska behov som ur människans nyfikenhet och lust att utforska matematiken som sådan. Matematisk\n",
      "verksamhet är till sin art en kreativ, reflekterande och problemlösande aktivitet som är nära\n",
      "kopplad till den samhälleliga, sociala, naturvetenskapliga, tekniska och digitala ut­veck­lingen.\n",
      "Kunskaper i matematik ger människor förutsättningar att fatta väl­grun­dade beslut i vardagslivets\n",
      "många valsituationer och ökar möjligheterna att del­ta i samhällets beslutsprocesser.\n"
     ]
    }
   ],
   "source": [
    "import re, html, textwrap\n",
    "\n",
    "def html_to_text(s: str) -> str:\n",
    "    s = html.unescape(s or \"\")\n",
    "    s = re.sub(r\"<\\s*br\\s*/?>\", \"\\n\", s, flags=re.I)\n",
    "    s = re.sub(r\"<[^>]+>\", \"\", s)\n",
    "    return s.strip()\n",
    "\n",
    "# Visa första långa textträffen snyggt:\n",
    "if long_texts:\n",
    "    path, raw = long_texts[0]\n",
    "    print(\"Fält:\", path)\n",
    "    print(\"\\n\" + textwrap.fill(html_to_text(raw), width=100))\n",
    "else:\n",
    "    print(\"Hittade inga långa textfält direkt i subject – texten kan kräva annan endpoint.\")\n"
   ]
  },
  {
   "cell_type": "code",
   "execution_count": 18,
   "id": "59e65eab",
   "metadata": {},
   "outputs": [
    {
     "data": {
      "text/html": [
       "<div>\n",
       "<style scoped>\n",
       "    .dataframe tbody tr th:only-of-type {\n",
       "        vertical-align: middle;\n",
       "    }\n",
       "\n",
       "    .dataframe tbody tr th {\n",
       "        vertical-align: top;\n",
       "    }\n",
       "\n",
       "    .dataframe thead th {\n",
       "        text-align: right;\n",
       "    }\n",
       "</style>\n",
       "<table border=\"1\" class=\"dataframe\">\n",
       "  <thead>\n",
       "    <tr style=\"text-align: right;\">\n",
       "      <th></th>\n",
       "      <th>0</th>\n",
       "    </tr>\n",
       "  </thead>\n",
       "  <tbody>\n",
       "    <tr>\n",
       "      <th>code</th>\n",
       "      <td>GRGRMAT01</td>\n",
       "    </tr>\n",
       "    <tr>\n",
       "      <th>name</th>\n",
       "      <td>Matematik</td>\n",
       "    </tr>\n",
       "    <tr>\n",
       "      <th>typeOfSyllabus</th>\n",
       "      <td>COURSE_SYLLABUS</td>\n",
       "    </tr>\n",
       "    <tr>\n",
       "      <th>startDate</th>\n",
       "      <td>2022-07-01</td>\n",
       "    </tr>\n",
       "    <tr>\n",
       "      <th>modifiedDate</th>\n",
       "      <td>2024-02-09</td>\n",
       "    </tr>\n",
       "    <tr>\n",
       "      <th>version</th>\n",
       "      <td>14</td>\n",
       "    </tr>\n",
       "    <tr>\n",
       "      <th>versionInfo</th>\n",
       "      <td>Redigering av rubrik för betygskriterier</td>\n",
       "    </tr>\n",
       "    <tr>\n",
       "      <th>skolfsGrund</th>\n",
       "      <td>2010:37</td>\n",
       "    </tr>\n",
       "    <tr>\n",
       "      <th>skolfsAndring</th>\n",
       "      <td>2022:8</td>\n",
       "    </tr>\n",
       "    <tr>\n",
       "      <th>gradeScale</th>\n",
       "      <td>A-F</td>\n",
       "    </tr>\n",
       "    <tr>\n",
       "      <th>nameHeading</th>\n",
       "      <td>&lt;h2&gt;Matematik&lt;/h2&gt;</td>\n",
       "    </tr>\n",
       "    <tr>\n",
       "      <th>description</th>\n",
       "      <td>&lt;p&gt;Matematiken har en flertusenårig historia m...</td>\n",
       "    </tr>\n",
       "    <tr>\n",
       "      <th>designation</th>\n",
       "      <td>MA</td>\n",
       "    </tr>\n",
       "    <tr>\n",
       "      <th>purposeHeading</th>\n",
       "      <td>&lt;h3&gt;Syfte&lt;/h3&gt;</td>\n",
       "    </tr>\n",
       "    <tr>\n",
       "      <th>purpose</th>\n",
       "      <td>&lt;p&gt;Undervisningen i ämnet matematik ska syfta ...</td>\n",
       "    </tr>\n",
       "    <tr>\n",
       "      <th>schoolTypes</th>\n",
       "      <td>[GR, SAM]</td>\n",
       "    </tr>\n",
       "    <tr>\n",
       "      <th>centralCntHeading</th>\n",
       "      <td>&lt;h3&gt;Centralt innehåll&lt;/h3&gt;</td>\n",
       "    </tr>\n",
       "    <tr>\n",
       "      <th>centralContents</th>\n",
       "      <td>[{'text': '&lt;h3&gt;I årskurs 1–3&lt;/h3&gt;&lt;h4&gt;Taluppfat...</td>\n",
       "    </tr>\n",
       "    <tr>\n",
       "      <th>knowledgeReqsHeading</th>\n",
       "      <td>&lt;h2&gt;KRITERIER FÖR BEDÖMNING AV KUNSKAPER OCH B...</td>\n",
       "    </tr>\n",
       "    <tr>\n",
       "      <th>knowledgeRequirements</th>\n",
       "      <td>[{'text': '&lt;h3&gt;Kriterier för bedömning av godt...</td>\n",
       "    </tr>\n",
       "  </tbody>\n",
       "</table>\n",
       "</div>"
      ],
      "text/plain": [
       "                                                                       0\n",
       "code                                                           GRGRMAT01\n",
       "name                                                           Matematik\n",
       "typeOfSyllabus                                           COURSE_SYLLABUS\n",
       "startDate                                                     2022-07-01\n",
       "modifiedDate                                                  2024-02-09\n",
       "version                                                               14\n",
       "versionInfo                     Redigering av rubrik för betygskriterier\n",
       "skolfsGrund                                                      2010:37\n",
       "skolfsAndring                                                     2022:8\n",
       "gradeScale                                                           A-F\n",
       "nameHeading                                           <h2>Matematik</h2>\n",
       "description            <p>Matematiken har en flertusenårig historia m...\n",
       "designation                                                           MA\n",
       "purposeHeading                                            <h3>Syfte</h3>\n",
       "purpose                <p>Undervisningen i ämnet matematik ska syfta ...\n",
       "schoolTypes                                                    [GR, SAM]\n",
       "centralCntHeading                             <h3>Centralt innehåll</h3>\n",
       "centralContents        [{'text': '<h3>I årskurs 1–3</h3><h4>Taluppfat...\n",
       "knowledgeReqsHeading   <h2>KRITERIER FÖR BEDÖMNING AV KUNSKAPER OCH B...\n",
       "knowledgeRequirements  [{'text': '<h3>Kriterier för bedömning av godt..."
      ]
     },
     "execution_count": 18,
     "metadata": {},
     "output_type": "execute_result"
    }
   ],
   "source": [
    "import json, urllib.request, pandas as pd\n",
    "\n",
    "url = \"https://api.skolverket.se/syllabus/v1/subjects/GRGRMAT01\"\n",
    "with urllib.request.urlopen(url) as r:\n",
    "    payload = json.load(r)\n",
    "\n",
    "subject = payload[\"subject\"]  # <- här ligger själva innehållet\n",
    "pd.json_normalize(subject).T  # snabb översikt (transponerad)\n",
    "\n",
    "\n",
    "\n",
    "\n",
    "\n"
   ]
  },
  {
   "cell_type": "code",
   "execution_count": 19,
   "id": "26031bd1",
   "metadata": {},
   "outputs": [
    {
     "name": "stdout",
     "output_type": "stream",
     "text": [
      "<class 'str'>\n",
      "Redigering av rubrik för betygskriterier\n"
     ]
    }
   ],
   "source": [
    "vi = subject.get(\"versionInfo\")\n",
    "type(vi), (len(vi) if isinstance(vi, list) else None)\n",
    "# Visa första posten om det är en lista:\n",
    "first = vi[0] if isinstance(vi, list) and vi else vi\n",
    "print(type(first))\n",
    "print(first.keys() if isinstance(first, dict) else first)\n",
    "\n"
   ]
  },
  {
   "cell_type": "code",
   "execution_count": null,
   "id": "20f4209a",
   "metadata": {},
   "outputs": [],
   "source": [
    "# Gissa textkolumner\n",
    "text_cols = [c for c in df.columns if any(k in c.lower() for k in\n",
    "                                          [\"text\", \"beskriv\", \"plan\", \"innehåll\", \"content\", \"body\", \"syllabus\"])]\n",
    "text_cols\n"
   ]
  },
  {
   "cell_type": "code",
   "execution_count": 12,
   "id": "3a52cb13",
   "metadata": {},
   "outputs": [
    {
     "data": {
      "text/plain": [
       "[]"
      ]
     },
     "execution_count": 12,
     "metadata": {},
     "output_type": "execute_result"
    }
   ],
   "source": [
    "# Visa kolumnnamn för att hitta textfältet (ex: \"text\", \"beskrivning\", \"kursplan\", \"content\", \"body\" etc.)\n",
    "list(df.columns)\n",
    "\n",
    "# Gissa vilka kolumner som är \"långa\" texter\n",
    "text_cols = [c for c in df.columns if any(k in c.lower() for k in [\"text\", \"beskriv\", \"plan\", \"innehåll\", \"content\", \"body\"])]\n",
    "text_cols\n"
   ]
  },
  {
   "cell_type": "code",
   "execution_count": null,
   "id": "03e87962",
   "metadata": {},
   "outputs": [],
   "source": [
    "print(df.shape)     # Antal rader och kolumner\n",
    "print(df.columns)   # Kolumnnamn\n",
    "print(df.head())    # Visa de första raderna    "
   ]
  }
 ],
 "metadata": {
  "kernelspec": {
   "display_name": ".venv",
   "language": "python",
   "name": "python3"
  },
  "language_info": {
   "codemirror_mode": {
    "name": "ipython",
    "version": 3
   },
   "file_extension": ".py",
   "mimetype": "text/x-python",
   "name": "python",
   "nbconvert_exporter": "python",
   "pygments_lexer": "ipython3",
   "version": "3.13.7"
  }
 },
 "nbformat": 4,
 "nbformat_minor": 5
}
