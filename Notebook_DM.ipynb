{
 "cells": [
  {
   "cell_type": "markdown",
   "id": "60e7125c",
   "metadata": {},
   "source": [
    "**Databehandling 2025-10-29**"
   ]
  },
  {
   "cell_type": "markdown",
   "id": "f7422e05",
   "metadata": {},
   "source": [
    "Setup dummy Dataframe\n",
    "redundant? redundance - samma information i flera kolumner? \n",
    "\n",
    "\n",
    "\n",
    "***Saknade värden***  \n",
    "- Viktigt att veta vad värdena betyder, kan de tas bort? eller ersättas med nåt? \n",
    "- Pandas behandla None,nun och NA nästan likadant \n",
    "- Datastorleken spelar roll - små dataset - måste vara mer försiktig med data, stora dataset - med få \"nulls\", kan antagligen ta bort hela rader. \n",
    "- kan vara en viktig datapunkt att datan saknas. Kan vara värdefull information som saknas. \n",
    "- titta på hur stor procent av värdena som saknas\n",
    "- saknad data kan ha en negativ påverkan på datavisualisering, machinelearning algorithms, arithmetic computations\n",
    "\n",
    "\n",
    "***Aggrigationer och Grupby***"
   ]
  },
  {
   "cell_type": "code",
   "execution_count": null,
   "id": "d0260de6",
   "metadata": {},
   "outputs": [],
   "source": [
    "import numpy as np\n",
    "import pandas as pd\n",
    "\n",
    "n = 8\n",
    "random_matrix = np.random.randint(1,10, (n, n)) #8*8 matrix with random integers\n",
    "index = np.random.choice(random_matrix.size, 10, replace=False) \n",
    "print(f\"index: {index}\")\n",
    "print(F\"Flattened matrix: {random_matrix.ravel()}\")\n",
    "\n",
    "random_matrix = random_matrix*1.0 #convert to float matrix\n",
    "random_matrix.ravel()[index] = None\n",
    "print(random_matrix) # vad betyder det att ett värde inte finns med? NaN = Not a Number\n",
    "\n"
   ]
  },
  {
   "cell_type": "code",
   "execution_count": null,
   "id": "d4a1b274",
   "metadata": {},
   "outputs": [],
   "source": [
    "scores = pd.DataFrame(random_matrix, \n",
    "                    index=[f\"player{i}\" for i in range(1, n+1)],\n",
    "                    columns=[f\"player{i}\" for i in range(1, n+1)])\n",
    "print(scores)"
   ]
  },
  {
   "cell_type": "code",
   "execution_count": null,
   "id": "8cc1f210",
   "metadata": {},
   "outputs": [],
   "source": [
    "scores.isnull() # kolla vilka värden som är saknade "
   ]
  },
  {
   "cell_type": "code",
   "execution_count": null,
   "id": "a4ce337f",
   "metadata": {},
   "outputs": [],
   "source": [
    "scores.dropna() # tar bort rader med saknade värden "
   ]
  },
  {
   "cell_type": "code",
   "execution_count": null,
   "id": "0151b19e",
   "metadata": {},
   "outputs": [],
   "source": [
    "scores.dropna(axis=\"columns\") # tar bort kolumner med saknade värden"
   ]
  },
  {
   "cell_type": "code",
   "execution_count": null,
   "id": "d5fe673a",
   "metadata": {},
   "outputs": [],
   "source": [
    "scores.fillna(0)  # ersätter saknade värden med 0   "
   ]
  },
  {
   "cell_type": "code",
   "execution_count": null,
   "id": "d5966f6e",
   "metadata": {},
   "outputs": [],
   "source": [
    "# Kolla på titanic dataset\n",
    "import seaborn as sns\n",
    "titanic = sns.load_dataset(\"titanic\")\n",
    "titanic.head()  \n",
    "\n",
    "nulls = titanic.isnull().sum()\n",
    "print(nulls)    \n",
    "\n",
    "# Histogram över kön\n",
    "sns.histplot(data=titanic, x=\"age\", hue=\"sex\", kde=True)    \n",
    "\n",
    "median_male_age = titanic[titanic[\"sex\"] == \"male\"][\"age\"].median()\n",
    "median_female_age = titanic[titanic[\"sex\"] == \"female\"][\"age\"].median() \n",
    "\n",
    "print(f\"Median male age: {median_male_age}\")\n",
    "print(f\"Median female age: {median_female_age}\")   \n",
    "\n",
    "titanic.loc[(titanic[\"sex\"] == \"male\", \"age\")] = titanic.loc[(titanic[\"sex\"] == \"male\", \"age\")].fillna(median_male_age)\n",
    "titanic.loc [(titanic[\"sex\"] == \"female\", \"age\")] = titanic.loc[(titanic[\"sex\"] == \"female\", \"age\")].fillna(median_female_age)\n",
    "\n",
    "titanic.loc[titanic[\"age\"]==29,\"age\"] = None # via loc kan man skriva komma och fortsätta direkt efteråt (maskningar) \n",
    "\n",
    "print(titanic.isnull().sum().loc[\"age\"])\n"
   ]
  },
  {
   "cell_type": "code",
   "execution_count": null,
   "id": "15d96e47",
   "metadata": {},
   "outputs": [],
   "source": [
    "print(titanic.isnull().sum().loc[\"age\"])\n",
    "titanic.loc[titanic[\"age\"].isnull(), \"sex\"].value_counts()\n"
   ]
  },
  {
   "cell_type": "markdown",
   "id": "e8c04d6b",
   "metadata": {},
   "source": [
    "**Databehandling 2025-10-28**"
   ]
  },
  {
   "cell_type": "markdown",
   "id": "542c4133",
   "metadata": {},
   "source": [
    "**L0-pandas-basics**.ipynb (raphaels github) \n",
    "\n",
    ".loc    # \n",
    ".iloc   # \n",
    "\n",
    "- Slicing dataframes\n",
    "- Masking - skicka in en array med en mask i, välja ut/byta ut värden. \n",
    "- Read excel data # df.info() # df[\"foodcategory\"].uniqe() \n",
    "- Data cleaning \n",
    "- Sortera data # .sort_values() # ascending=false (från störst till lägst) # top 5 median - .groupby, .median, .sort_values, ascending=False, .head()\n",
    "- "
   ]
  },
  {
   "cell_type": "code",
   "execution_count": null,
   "id": "e71810c3",
   "metadata": {},
   "outputs": [],
   "source": [
    "\n",
    "import sys, pandas as pd, numpy as np\n",
    "print(sys.executable)\n",
    "print(pd.__version__, np.__version__)\n",
    "pd.DataFrame({\"a\":[1,2], \"b\":[3,4]})\n",
    "\n"
   ]
  },
  {
   "cell_type": "code",
   "execution_count": null,
   "id": "6101266f",
   "metadata": {},
   "outputs": [],
   "source": [
    "import pandas as pd\n",
    "\n",
    "data = dict(AI = 25, NET = 30,  APP = 30) \n",
    "\n",
    "series_programs = pd.Series(data=data) \n",
    "\n",
    "#extract values (behandla som en lista även om det är en dict)\n",
    "print(f\"series_programs[0] -> {series_programs[0]}\")\n",
    "print(f\"series_programs[0] -> {series_programs[-1]}\")\n",
    "\n",
    "# get keys\n",
    "print(f\"series_programs.keys[0] -> {series_programs.keys()}\") \n",
    "print(f\"series_programs.keys[0] -> {series_programs.keys()[2]}\") "
   ]
  },
  {
   "cell_type": "markdown",
   "id": "c789c6fe",
   "metadata": {},
   "source": [
    "***Aggregations and groupby***  \n",
    "(mixa inte ihop agg() med aggregate() )\n",
    "\n",
    "Aggregations:  (variabler som vi tittar på för att lära oss nåt om systemet. genom att kombinera variablerna kan vi räkna ut nya variabler. exempelvi acceleration på en boll - hastighet och motstånd..)\n",
    "sum(), mean(), median(), min(), max())\n",
    "\n"
   ]
  },
  {
   "cell_type": "code",
   "execution_count": null,
   "id": "7426d02e",
   "metadata": {},
   "outputs": [
    {
     "name": "stdout",
     "output_type": "stream",
     "text": [
      "Survival percentage for female: 74.2%\n",
      "Mean age for female: 27.7 years\n",
      "Survival percentage for male: 18.9%\n",
      "Mean age for male: 30.8 years\n"
     ]
    }
   ],
   "source": [
    "survivors = titanic.groupby(\"sex\").mean(numeric_only=True)[[\"survived\", \"age\"]] #numeric_only föra att ara plocka kolumner som har siffror i\n",
    "for i in survivors.index:\n",
    "    survived_percentage = survivors.loc[i, 'survived'] * 100\n",
    "    print(f\"Survival percentage for {i}: {survived_percentage:.1f}%\")\n",
    "    print(f\"Mean age for {i}: {survivors.loc[i, 'age']:.1f} years\")\n"
   ]
  },
  {
   "cell_type": "code",
   "execution_count": 25,
   "id": "fd6d5f05",
   "metadata": {},
   "outputs": [
    {
     "name": "stderr",
     "output_type": "stream",
     "text": [
      "C:\\Users\\fanny\\AppData\\Local\\Temp\\ipykernel_28140\\55204569.py:1: FutureWarning: The default of observed=False is deprecated and will be changed to True in a future version of pandas. Pass observed=False to retain current behavior or observed=True to adopt the future default and silence this warning.\n",
      "  titanic.groupby(\"class\")[[\"age\", \"fare\"]].max()\n"
     ]
    },
    {
     "data": {
      "text/html": [
       "<div>\n",
       "<style scoped>\n",
       "    .dataframe tbody tr th:only-of-type {\n",
       "        vertical-align: middle;\n",
       "    }\n",
       "\n",
       "    .dataframe tbody tr th {\n",
       "        vertical-align: top;\n",
       "    }\n",
       "\n",
       "    .dataframe thead th {\n",
       "        text-align: right;\n",
       "    }\n",
       "</style>\n",
       "<table border=\"1\" class=\"dataframe\">\n",
       "  <thead>\n",
       "    <tr style=\"text-align: right;\">\n",
       "      <th></th>\n",
       "      <th>age</th>\n",
       "      <th>fare</th>\n",
       "    </tr>\n",
       "    <tr>\n",
       "      <th>class</th>\n",
       "      <th></th>\n",
       "      <th></th>\n",
       "    </tr>\n",
       "  </thead>\n",
       "  <tbody>\n",
       "    <tr>\n",
       "      <th>First</th>\n",
       "      <td>80.0</td>\n",
       "      <td>512.3292</td>\n",
       "    </tr>\n",
       "    <tr>\n",
       "      <th>Second</th>\n",
       "      <td>70.0</td>\n",
       "      <td>73.5000</td>\n",
       "    </tr>\n",
       "    <tr>\n",
       "      <th>Third</th>\n",
       "      <td>74.0</td>\n",
       "      <td>69.5500</td>\n",
       "    </tr>\n",
       "  </tbody>\n",
       "</table>\n",
       "</div>"
      ],
      "text/plain": [
       "         age      fare\n",
       "class                 \n",
       "First   80.0  512.3292\n",
       "Second  70.0   73.5000\n",
       "Third   74.0   69.5500"
      ]
     },
     "execution_count": 25,
     "metadata": {},
     "output_type": "execute_result"
    }
   ],
   "source": [
    "titanic.groupby(\"class\")[[\"age\", \"fare\"]].max()"
   ]
  },
  {
   "cell_type": "code",
   "execution_count": 28,
   "id": "23e43ccb",
   "metadata": {},
   "outputs": [
    {
     "data": {
      "text/html": [
       "<div>\n",
       "<style scoped>\n",
       "    .dataframe tbody tr th:only-of-type {\n",
       "        vertical-align: middle;\n",
       "    }\n",
       "\n",
       "    .dataframe tbody tr th {\n",
       "        vertical-align: top;\n",
       "    }\n",
       "\n",
       "    .dataframe thead th {\n",
       "        text-align: right;\n",
       "    }\n",
       "</style>\n",
       "<table border=\"1\" class=\"dataframe\">\n",
       "  <thead>\n",
       "    <tr style=\"text-align: right;\">\n",
       "      <th></th>\n",
       "      <th>age</th>\n",
       "      <th>fare</th>\n",
       "    </tr>\n",
       "  </thead>\n",
       "  <tbody>\n",
       "    <tr>\n",
       "      <th>mean</th>\n",
       "      <td>29.526332</td>\n",
       "      <td>32.204208</td>\n",
       "    </tr>\n",
       "    <tr>\n",
       "      <th>min</th>\n",
       "      <td>0.420000</td>\n",
       "      <td>0.000000</td>\n",
       "    </tr>\n",
       "    <tr>\n",
       "      <th>max</th>\n",
       "      <td>80.000000</td>\n",
       "      <td>512.329200</td>\n",
       "    </tr>\n",
       "  </tbody>\n",
       "</table>\n",
       "</div>"
      ],
      "text/plain": [
       "            age        fare\n",
       "mean  29.526332   32.204208\n",
       "min    0.420000    0.000000\n",
       "max   80.000000  512.329200"
      ]
     },
     "execution_count": 28,
     "metadata": {},
     "output_type": "execute_result"
    }
   ],
   "source": [
    "titanic.agg({\"age\": [\"mean\", \"min\", \"max\"], \"fare\": [\"mean\", \"min\", \"max\"]})\n"
   ]
  },
  {
   "cell_type": "code",
   "execution_count": 27,
   "id": "c835f3f2",
   "metadata": {},
   "outputs": [
    {
     "data": {
      "text/plain": [
       "[Text(0, 0.5, 'count'), Text(0.5, 1.0, 'Survival count in titanic vs class')]"
      ]
     },
     "execution_count": 27,
     "metadata": {},
     "output_type": "execute_result"
    },
    {
     "data": {
      "image/png": "[encoded data removed]",
      "text/plain": [
       "<Figure size 640x480 with 1 Axes>"
      ]
     },
     "metadata": {},
     "output_type": "display_data"
    }
   ],
   "source": [
    "survived_class = titanic.groupby([\"survived\", \"pclass\"]).count()\n",
    "survived_class = survived_class.reset_index()\n",
    "ax = sns.barplot(data=survived_class, x=\"pclass\", y=\"who\", hue=\"survived\")  # who = antal personer, hue = överlevde eller inte  \n",
    "ax.set(ylabel=\"count\", title=\"Survival count in titanic vs class\")"
   ]
  },
  {
   "cell_type": "code",
   "execution_count": null,
   "id": "7290d101",
   "metadata": {},
   "outputs": [],
   "source": [
    "import random as rnd\n",
    "rnd.seed(42)\n",
    "\n",
    "# create Series using list\n",
    "dice_series = pd.Series([rnd.randint(1,6) for _ in range(5)])\n",
    "print(dice_series)\n",
    "\n",
    "print(f\"Min value: {dice_series.min()}\")\n",
    "print(f\"Mean value: {dice_series.mean()}\") #deskriptiva statistics\n",
    "print(f\"Median value: {dice_series.median()}\") #deskriptiva statistics"
   ]
  },
  {
   "cell_type": "code",
   "execution_count": null,
   "id": "602f8351",
   "metadata": {},
   "outputs": [],
   "source": [
    "# Slicing DataFrames\n",
    "df_programs = pd.DataFrame({\n",
    "    \"Language\": [\"Python\", \"Java\", \"C#\", \"JavaScript\", \"Ruby\"],\n",
    "    \"Students\": [150, 120, 100, 130, 80]\n",
    "})  \n",
    "\n",
    "print (df_programs)\n"
   ]
  }
 ],
 "metadata": {
  "kernelspec": {
   "display_name": ".venv",
   "language": "python",
   "name": "python3"
  },
  "language_info": {
   "codemirror_mode": {
    "name": "ipython",
    "version": 3
   },
   "file_extension": ".py",
   "mimetype": "text/x-python",
   "name": "python",
   "nbconvert_exporter": "python",
   "pygments_lexer": "ipython3",
   "version": "3.13.7"
  }
 },
 "nbformat": 4,
 "nbformat_minor": 5
}
